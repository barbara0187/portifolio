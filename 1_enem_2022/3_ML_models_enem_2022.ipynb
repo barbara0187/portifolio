{
 "cells": [
  {
   "cell_type": "markdown",
   "id": "a2a60434",
   "metadata": {},
   "source": [
    "# Machine learning Models"
   ]
  },
  {
   "cell_type": "markdown",
   "id": "c492b5c2",
   "metadata": {},
   "source": [
    "Finaly we will test diferent machine learning models to see wich one best fit our data."
   ]
  },
  {
   "cell_type": "code",
   "execution_count": 1,
   "id": "4a8b6948",
   "metadata": {},
   "outputs": [],
   "source": [
    "from matplotlib import pyplot as plt\n",
    "import seaborn as sns\n",
    "import pandas as pd\n",
    "import pylab as pl\n",
    "import numpy as np\n",
    "#from sklearn import linear_model\n",
    "from sklearn.metrics import r2_score, mean_squared_error,mean_absolute_error\n",
    "from sklearn.model_selection import train_test_split\n",
    "from sklearn.model_selection import RepeatedKFold, RandomizedSearchCV, KFold\n",
    "from sklearn.preprocessing import MinMaxScaler, StandardScaler\n",
    "from sklearn.linear_model import LinearRegression\n",
    "from sklearn.tree import DecisionTreeRegressor\n",
    "from sklearn.ensemble import RandomForestRegressor\n",
    "from sklearn.model_selection import cross_val_score\n",
    "from math import sqrt\n",
    "from numpy import random\n",
    "from scipy import stats as stats\n",
    "import xgboost as xgb\n",
    "\n",
    "pd.set_option('display.max_rows', None)\n",
    "pd.set_option('display.max_columns', None)\n",
    "\n",
    "pd.set_option('display.float_format', lambda x: '%.2f' % x)"
   ]
  },
  {
   "cell_type": "markdown",
   "id": "2820026d",
   "metadata": {},
   "source": [
    "# Importing Data"
   ]
  },
  {
   "cell_type": "markdown",
   "id": "71b55ded",
   "metadata": {},
   "source": [
    "Let's import the data our X_train, X_test, y_train and y_test that we produce in the last notebook."
   ]
  },
  {
   "cell_type": "code",
   "execution_count": 2,
   "id": "24b53b4d",
   "metadata": {},
   "outputs": [],
   "source": [
    "X_train= pd.read_csv('X_train.csv')\n",
    "X_test= pd.read_csv('X_test.csv')\n",
    "y_train=pd.read_csv('y_train.csv')\n",
    "y_test= pd.read_csv('y_test.csv')"
   ]
  },
  {
   "cell_type": "markdown",
   "id": "712f2840",
   "metadata": {},
   "source": [
    "## Linear Regression"
   ]
  },
  {
   "cell_type": "markdown",
   "id": "fb53013c",
   "metadata": {},
   "source": [
    "Here we use cross_val_score to estimate the error in the linear regression model. Than we calculate the mean of this error."
   ]
  },
  {
   "cell_type": "code",
   "execution_count": 3,
   "id": "7c6c04e3",
   "metadata": {},
   "outputs": [
    {
     "data": {
      "text/plain": [
       "67.66697023937469"
      ]
     },
     "execution_count": 3,
     "metadata": {},
     "output_type": "execute_result"
    }
   ],
   "source": [
    "LR=LinearRegression()\n",
    "\n",
    "# let's train using cross validation\n",
    "\n",
    "val_rmse_LR = -1*cross_val_score(estimator = LR, X=X_train, y=y_train, cv=10, scoring='neg_root_mean_squared_error')\n",
    "\n",
    "mean_val_rmse_LR = val_rmse_LR.mean()\n",
    "mean_val_rmse_LR"
   ]
  },
  {
   "cell_type": "markdown",
   "id": "bfa5e1f0",
   "metadata": {},
   "source": [
    "## Decision Tree Regressor"
   ]
  },
  {
   "cell_type": "markdown",
   "id": "663abcac",
   "metadata": {},
   "source": [
    "Here we use cross_val_score to estimate the error in the decision tree regressor model. Than we calculate the mean of this error."
   ]
  },
  {
   "cell_type": "code",
   "execution_count": 4,
   "id": "86955ab2",
   "metadata": {},
   "outputs": [
    {
     "data": {
      "text/plain": [
       "83.53493699003391"
      ]
     },
     "execution_count": 4,
     "metadata": {},
     "output_type": "execute_result"
    }
   ],
   "source": [
    "DTR= DecisionTreeRegressor()\n",
    "\n",
    "val_rmse_DTR = -1*cross_val_score(estimator = DTR, \n",
    "                                  X=X_train, \n",
    "                                  y=y_train, \n",
    "                                  cv=10, \n",
    "                                  scoring='neg_root_mean_squared_error')\n",
    "\n",
    "mean_val_rmse_DTR= val_rmse_DTR.mean()\n",
    "mean_val_rmse_DTR"
   ]
  },
  {
   "cell_type": "markdown",
   "id": "657118e2",
   "metadata": {},
   "source": [
    "## Random Forest Regressor"
   ]
  },
  {
   "cell_type": "markdown",
   "id": "ac5cd17a",
   "metadata": {},
   "source": [
    "Here we use cross_val_score to estimate the error in the random forest regressor model. Than we calculate the mean of this error."
   ]
  },
  {
   "cell_type": "code",
   "execution_count": 5,
   "id": "d0a7c61d",
   "metadata": {},
   "outputs": [
    {
     "data": {
      "text/plain": [
       "71.29670172671523"
      ]
     },
     "execution_count": 5,
     "metadata": {},
     "output_type": "execute_result"
    }
   ],
   "source": [
    "RFR= RandomForestRegressor()\n",
    "\n",
    "\n",
    "val_rmse_RFR=-1*cross_val_score(estimator = RFR,\n",
    "                                X=X_train,\n",
    "                                y=y_train.values.flatten(),\n",
    "                                cv=10,\n",
    "                                scoring='neg_root_mean_squared_error')\n",
    "\n",
    "mean_val_rmse_RFR = val_rmse_RFR.mean()\n",
    "mean_val_rmse_RFR"
   ]
  },
  {
   "cell_type": "markdown",
   "id": "a9e36b2c",
   "metadata": {},
   "source": [
    "## XGBoost"
   ]
  },
  {
   "cell_type": "markdown",
   "id": "2960b9d6",
   "metadata": {},
   "source": [
    "Here we use cross_val_score to estimate the error in the XGBoost regressor model. Than we calculate the mean of this error."
   ]
  },
  {
   "cell_type": "code",
   "execution_count": 6,
   "id": "467b38ff",
   "metadata": {},
   "outputs": [
    {
     "data": {
      "text/plain": [
       "66.11957854052133"
      ]
     },
     "execution_count": 6,
     "metadata": {},
     "output_type": "execute_result"
    }
   ],
   "source": [
    "XGB =xgb.XGBRegressor(random_state=42, n_estimators=100, min_child_weight = 1\n",
    "                     )\n",
    "\n",
    "val_rmse_XGB = -1*cross_val_score(estimator=XGB,\n",
    "                              X= X_train,\n",
    "                              y=y_train.values.flatten(),\n",
    "                              cv=10,\n",
    "                              scoring = 'neg_root_mean_squared_error')\n",
    "\n",
    "mean_val_rmse_XGB = val_rmse_XGB.mean()\n",
    "mean_val_rmse_XGB"
   ]
  },
  {
   "cell_type": "code",
   "execution_count": null,
   "id": "ef7bdd7e",
   "metadata": {},
   "outputs": [],
   "source": []
  },
  {
   "cell_type": "code",
   "execution_count": null,
   "id": "8f5657c5",
   "metadata": {},
   "outputs": [],
   "source": []
  },
  {
   "cell_type": "markdown",
   "id": "8eeb0030",
   "metadata": {},
   "source": [
    "# Comparing The models"
   ]
  },
  {
   "cell_type": "markdown",
   "id": "ad90701e",
   "metadata": {},
   "source": [
    "Let's see the dispersion by analising the boxplot of the mean squared error for all of our models. The boxplot shows that The error of the linear regression is smoller than the error of decision tree regressor. So this is the model we will use in our test dataset."
   ]
  },
  {
   "cell_type": "code",
   "execution_count": 7,
   "id": "42ed5bfb",
   "metadata": {},
   "outputs": [
    {
     "data": {
      "text/plain": [
       "[Text(0, 0, 'Linear_Regression'),\n",
       " Text(1, 0, 'Decision_Tree_Regressor'),\n",
       " Text(2, 0, 'Random_Forest_Regressor'),\n",
       " Text(3, 0, 'XGBoost')]"
      ]
     },
     "execution_count": 7,
     "metadata": {},
     "output_type": "execute_result"
    },
    {
     "data": {
      "image/png": "[encoded data removed]",
      "text/plain": [
       "<Figure size 640x480 with 1 Axes>"
      ]
     },
     "metadata": {},
     "output_type": "display_data"
    }
   ],
   "source": [
    "rmse = pd.DataFrame({'Linear_Regression': val_rmse_LR, 'Decision_Tree_Regressor': val_rmse_DTR, 'Random_Forest_Regressor':val_rmse_RFR, \n",
    "                     'XGBoost': val_rmse_XGB} )\n",
    "box=sns.boxplot(data=rmse)\n",
    "box.set_title('Comparing RMSE')\n",
    "box.set_xticklabels(box.get_xticklabels(), rotation=90)"
   ]
  },
  {
   "cell_type": "markdown",
   "id": "50757468",
   "metadata": {},
   "source": [
    "# champion model"
   ]
  },
  {
   "cell_type": "markdown",
   "id": "218ad406",
   "metadata": {},
   "source": [
    "We fit all the train data to our XGBoost model"
   ]
  },
  {
   "cell_type": "code",
   "execution_count": 8,
   "id": "a63597a5",
   "metadata": {},
   "outputs": [
    {
     "data": {
      "text/html": [
       "<style>#sk-container-id-1 {color: black;}#sk-container-id-1 pre{padding: 0;}#sk-container-id-1 div.sk-toggleable {background-color: white;}#sk-container-id-1 label.sk-toggleable__label {cursor: pointer;display: block;width: 100%;margin-bottom: 0;padding: 0.3em;box-sizing: border-box;text-align: center;}#sk-container-id-1 label.sk-toggleable__label-arrow:before {content: \"▸\";float: left;margin-right: 0.25em;color: #696969;}#sk-container-id-1 label.sk-toggleable__label-arrow:hover:before {color: black;}#sk-container-id-1 div.sk-estimator:hover label.sk-toggleable__label-arrow:before {color: black;}#sk-container-id-1 div.sk-toggleable__content {max-height: 0;max-width: 0;overflow: hidden;text-align: left;background-color: #f0f8ff;}#sk-container-id-1 div.sk-toggleable__content pre {margin: 0.2em;color: black;border-radius: 0.25em;background-color: #f0f8ff;}#sk-container-id-1 input.sk-toggleable__control:checked~div.sk-toggleable__content {max-height: 200px;max-width: 100%;overflow: auto;}#sk-container-id-1 input.sk-toggleable__control:checked~label.sk-toggleable__label-arrow:before {content: \"▾\";}#sk-container-id-1 div.sk-estimator input.sk-toggleable__control:checked~label.sk-toggleable__label {background-color: #d4ebff;}#sk-container-id-1 div.sk-label input.sk-toggleable__control:checked~label.sk-toggleable__label {background-color: #d4ebff;}#sk-container-id-1 input.sk-hidden--visually {border: 0;clip: rect(1px 1px 1px 1px);clip: rect(1px, 1px, 1px, 1px);height: 1px;margin: -1px;overflow: hidden;padding: 0;position: absolute;width: 1px;}#sk-container-id-1 div.sk-estimator {font-family: monospace;background-color: #f0f8ff;border: 1px dotted black;border-radius: 0.25em;box-sizing: border-box;margin-bottom: 0.5em;}#sk-container-id-1 div.sk-estimator:hover {background-color: #d4ebff;}#sk-container-id-1 div.sk-parallel-item::after {content: \"\";width: 100%;border-bottom: 1px solid gray;flex-grow: 1;}#sk-container-id-1 div.sk-label:hover label.sk-toggleable__label {background-color: #d4ebff;}#sk-container-id-1 div.sk-serial::before {content: \"\";position: absolute;border-left: 1px solid gray;box-sizing: border-box;top: 0;bottom: 0;left: 50%;z-index: 0;}#sk-container-id-1 div.sk-serial {display: flex;flex-direction: column;align-items: center;background-color: white;padding-right: 0.2em;padding-left: 0.2em;position: relative;}#sk-container-id-1 div.sk-item {position: relative;z-index: 1;}#sk-container-id-1 div.sk-parallel {display: flex;align-items: stretch;justify-content: center;background-color: white;position: relative;}#sk-container-id-1 div.sk-item::before, #sk-container-id-1 div.sk-parallel-item::before {content: \"\";position: absolute;border-left: 1px solid gray;box-sizing: border-box;top: 0;bottom: 0;left: 50%;z-index: -1;}#sk-container-id-1 div.sk-parallel-item {display: flex;flex-direction: column;z-index: 1;position: relative;background-color: white;}#sk-container-id-1 div.sk-parallel-item:first-child::after {align-self: flex-end;width: 50%;}#sk-container-id-1 div.sk-parallel-item:last-child::after {align-self: flex-start;width: 50%;}#sk-container-id-1 div.sk-parallel-item:only-child::after {width: 0;}#sk-container-id-1 div.sk-dashed-wrapped {border: 1px dashed gray;margin: 0 0.4em 0.5em 0.4em;box-sizing: border-box;padding-bottom: 0.4em;background-color: white;}#sk-container-id-1 div.sk-label label {font-family: monospace;font-weight: bold;display: inline-block;line-height: 1.2em;}#sk-container-id-1 div.sk-label-container {text-align: center;}#sk-container-id-1 div.sk-container {/* jupyter's `normalize.less` sets `[hidden] { display: none; }` but bootstrap.min.css set `[hidden] { display: none !important; }` so we also need the `!important` here to be able to override the default hidden behavior on the sphinx rendered scikit-learn.org. See: https://github.com/scikit-learn/scikit-learn/issues/21755 */display: inline-block !important;position: relative;}#sk-container-id-1 div.sk-text-repr-fallback {display: none;}</style><div id=\"sk-container-id-1\" class=\"sk-top-container\"><div class=\"sk-text-repr-fallback\"><pre>XGBRegressor(base_score=None, booster=None, callbacks=None,\n",
       "             colsample_bylevel=None, colsample_bynode=None,\n",
       "             colsample_bytree=None, device=None, early_stopping_rounds=None,\n",
       "             enable_categorical=False, eval_metric=None, feature_types=None,\n",
       "             gamma=None, grow_policy=None, importance_type=None,\n",
       "             interaction_constraints=None, learning_rate=None, max_bin=None,\n",
       "             max_cat_threshold=None, max_cat_to_onehot=None,\n",
       "             max_delta_step=None, max_depth=None, max_leaves=None,\n",
       "             min_child_weight=1, missing=nan, monotone_constraints=None,\n",
       "             multi_strategy=None, n_estimators=100, n_jobs=None,\n",
       "             num_parallel_tree=None, random_state=42, ...)</pre><b>In a Jupyter environment, please rerun this cell to show the HTML representation or trust the notebook. <br />On GitHub, the HTML representation is unable to render, please try loading this page with nbviewer.org.</b></div><div class=\"sk-container\" hidden><div class=\"sk-item\"><div class=\"sk-estimator sk-toggleable\"><input class=\"sk-toggleable__control sk-hidden--visually\" id=\"sk-estimator-id-1\" type=\"checkbox\" checked><label for=\"sk-estimator-id-1\" class=\"sk-toggleable__label sk-toggleable__label-arrow\">XGBRegressor</label><div class=\"sk-toggleable__content\"><pre>XGBRegressor(base_score=None, booster=None, callbacks=None,\n",
       "             colsample_bylevel=None, colsample_bynode=None,\n",
       "             colsample_bytree=None, device=None, early_stopping_rounds=None,\n",
       "             enable_categorical=False, eval_metric=None, feature_types=None,\n",
       "             gamma=None, grow_policy=None, importance_type=None,\n",
       "             interaction_constraints=None, learning_rate=None, max_bin=None,\n",
       "             max_cat_threshold=None, max_cat_to_onehot=None,\n",
       "             max_delta_step=None, max_depth=None, max_leaves=None,\n",
       "             min_child_weight=1, missing=nan, monotone_constraints=None,\n",
       "             multi_strategy=None, n_estimators=100, n_jobs=None,\n",
       "             num_parallel_tree=None, random_state=42, ...)</pre></div></div></div></div></div>"
      ],
      "text/plain": [
       "XGBRegressor(base_score=None, booster=None, callbacks=None,\n",
       "             colsample_bylevel=None, colsample_bynode=None,\n",
       "             colsample_bytree=None, device=None, early_stopping_rounds=None,\n",
       "             enable_categorical=False, eval_metric=None, feature_types=None,\n",
       "             gamma=None, grow_policy=None, importance_type=None,\n",
       "             interaction_constraints=None, learning_rate=None, max_bin=None,\n",
       "             max_cat_threshold=None, max_cat_to_onehot=None,\n",
       "             max_delta_step=None, max_depth=None, max_leaves=None,\n",
       "             min_child_weight=1, missing=nan, monotone_constraints=None,\n",
       "             multi_strategy=None, n_estimators=100, n_jobs=None,\n",
       "             num_parallel_tree=None, random_state=42, ...)"
      ]
     },
     "execution_count": 8,
     "metadata": {},
     "output_type": "execute_result"
    }
   ],
   "source": [
    "XGB.fit(X_train, y_train)\n",
    "#LR.coef_"
   ]
  },
  {
   "cell_type": "markdown",
   "id": "0fe76bc4",
   "metadata": {},
   "source": [
    "# Let's predict our final grade in the test dataset"
   ]
  },
  {
   "cell_type": "code",
   "execution_count": 9,
   "id": "824b19b8",
   "metadata": {},
   "outputs": [
    {
     "name": "stdout",
     "output_type": "stream",
     "text": [
      "Square Root of Mean Squared Error (MSE): 65.69045302262282\n"
     ]
    }
   ],
   "source": [
    "grades_predicted = XGB.predict(X_test)\n",
    "print('Square Root of Mean Squared Error (MSE):', mean_squared_error(y_test, grades_predicted)**0.5)"
   ]
  },
  {
   "cell_type": "markdown",
   "id": "7c789c7e",
   "metadata": {},
   "source": [
    "We use r2_score to estimate how much of the behaviour of our data is explained by our champion model."
   ]
  },
  {
   "cell_type": "code",
   "execution_count": 12,
   "id": "62e584fc",
   "metadata": {},
   "outputs": [
    {
     "name": "stdout",
     "output_type": "stream",
     "text": [
      "r2_score: 0.40064289814854104\n"
     ]
    }
   ],
   "source": [
    "r2=r2_score(y_true=y_test, y_pred = grades_predicted)\n",
    "print('r2_score:', r2)"
   ]
  },
  {
   "cell_type": "code",
   "execution_count": null,
   "id": "a9c132fd",
   "metadata": {},
   "outputs": [],
   "source": []
  },
  {
   "cell_type": "code",
   "execution_count": null,
   "id": "fb21c398",
   "metadata": {},
   "outputs": [],
   "source": []
  },
  {
   "cell_type": "code",
   "execution_count": null,
   "id": "6aa8e1aa",
   "metadata": {},
   "outputs": [],
   "source": []
  },
  {
   "cell_type": "code",
   "execution_count": null,
   "id": "cbc82db6",
   "metadata": {},
   "outputs": [],
   "source": []
  },
  {
   "cell_type": "code",
   "execution_count": null,
   "id": "f9c56ebf",
   "metadata": {},
   "outputs": [],
   "source": []
  },
  {
   "cell_type": "code",
   "execution_count": null,
   "id": "cf2e91b0",
   "metadata": {},
   "outputs": [],
   "source": []
  },
  {
   "cell_type": "code",
   "execution_count": null,
   "id": "f7827bd3",
   "metadata": {},
   "outputs": [],
   "source": []
  }
 ],
 "metadata": {
  "kernelspec": {
   "display_name": "Python 3 (ipykernel)",
   "language": "python",
   "name": "python3"
  },
  "language_info": {
   "codemirror_mode": {
    "name": "ipython",
    "version": 3
   },
   "file_extension": ".py",
   "mimetype": "text/x-python",
   "name": "python",
   "nbconvert_exporter": "python",
   "pygments_lexer": "ipython3",
   "version": "3.11.5"
  }
 },
 "nbformat": 4,
 "nbformat_minor": 5
}
