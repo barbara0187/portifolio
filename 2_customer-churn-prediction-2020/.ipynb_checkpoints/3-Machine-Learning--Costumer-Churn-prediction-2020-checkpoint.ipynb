{
 "cells": [
  {
   "cell_type": "markdown",
   "id": "c15eed7b",
   "metadata": {},
   "source": [
    "# Machine Learning Models"
   ]
  },
  {
   "cell_type": "code",
   "execution_count": 14,
   "id": "52ecd371",
   "metadata": {},
   "outputs": [],
   "source": [
    "from matplotlib import pyplot as plt\n",
    "import seaborn as sns\n",
    "import pandas as pd\n",
    "import pylab as pl\n",
    "import numpy as np\n",
    "from scipy import stats as stats\n",
    "\n",
    "pd.set_option('display.max_rows', None)\n",
    "pd.set_option('display.max_columns', None) \n",
    "\n",
    "pd.set_option('display.float_format', lambda x: '%.2f' % x)"
   ]
  },
  {
   "cell_type": "code",
   "execution_count": 15,
   "id": "28b8c17a",
   "metadata": {},
   "outputs": [],
   "source": [
    "X_train= pd.read_csv('X_train.csv')\n",
    "X_test= pd.read_csv('X_test.csv')\n",
    "y_train=pd.read_csv('y_train.csv')\n",
    "y_test= pd.read_csv('y_test.csv')"
   ]
  },
  {
   "cell_type": "markdown",
   "id": "aea96672",
   "metadata": {},
   "source": [
    "## Logistic Regression"
   ]
  },
  {
   "cell_type": "code",
   "execution_count": 16,
   "id": "177035bf",
   "metadata": {},
   "outputs": [
    {
     "data": {
      "text/plain": [
       "0.2659295860155143"
      ]
     },
     "execution_count": 16,
     "metadata": {},
     "output_type": "execute_result"
    }
   ],
   "source": [
    "from sklearn.model_selection import cross_val_score\n",
    "from sklearn.linear_model import LogisticRegression\n",
    "\n",
    "LR= LogisticRegression()\n",
    "\n",
    "val_f1_LR = cross_val_score(estimator=LR,\n",
    "                              X= X_train,\n",
    "                              y=y_train.values.flatten(),\n",
    "                              cv=10,\n",
    "                              scoring = 'f1')\n",
    "\n",
    "mean_val_f1_LR = val_f1_LR.mean()\n",
    "mean_val_f1_LR"
   ]
  },
  {
   "cell_type": "markdown",
   "id": "b80a5215",
   "metadata": {},
   "source": [
    "## Decision Tree Classifier"
   ]
  },
  {
   "cell_type": "code",
   "execution_count": 17,
   "id": "8e228513",
   "metadata": {},
   "outputs": [
    {
     "data": {
      "text/plain": [
       "0.7134267119034579"
      ]
     },
     "execution_count": 17,
     "metadata": {},
     "output_type": "execute_result"
    }
   ],
   "source": [
    "from sklearn.tree import DecisionTreeClassifier\n",
    "\n",
    "DTC= DecisionTreeClassifier()\n",
    "\n",
    "val_f1_DTC = cross_val_score(estimator=DTC,\n",
    "                              X= X_train,\n",
    "                              y=y_train.values.flatten(),\n",
    "                              cv=10,\n",
    "                              scoring = 'f1')\n",
    "\n",
    "mean_val_f1_DTC = val_f1_DTC.mean()\n",
    "mean_val_f1_DTC"
   ]
  },
  {
   "cell_type": "markdown",
   "id": "82b7f082",
   "metadata": {},
   "source": [
    "## Random Forest Classifier"
   ]
  },
  {
   "cell_type": "code",
   "execution_count": 18,
   "id": "7cb2bd92",
   "metadata": {},
   "outputs": [
    {
     "data": {
      "text/plain": [
       "0.7327065406759157"
      ]
     },
     "execution_count": 18,
     "metadata": {},
     "output_type": "execute_result"
    }
   ],
   "source": [
    "from sklearn.ensemble import RandomForestClassifier\n",
    "\n",
    "RFC =RandomForestClassifier()\n",
    "\n",
    "val_f1_RFC = cross_val_score(estimator=RFC,\n",
    "                              X= X_train,\n",
    "                              y=y_train.values.flatten(),\n",
    "                              cv=10,\n",
    "                              scoring = 'f1')\n",
    "\n",
    "mean_val_f1_RFC = val_f1_RFC.mean()\n",
    "mean_val_f1_RFC"
   ]
  },
  {
   "cell_type": "markdown",
   "id": "b3fa83b4",
   "metadata": {},
   "source": [
    "## XGBClassifier"
   ]
  },
  {
   "cell_type": "code",
   "execution_count": 19,
   "id": "a158f8f0",
   "metadata": {},
   "outputs": [
    {
     "data": {
      "text/plain": [
       "0.8265369767831526"
      ]
     },
     "execution_count": 19,
     "metadata": {},
     "output_type": "execute_result"
    }
   ],
   "source": [
    "import xgboost as xgb\n",
    "\n",
    "XGB =xgb.XGBClassifier()\n",
    "\n",
    "val_rmse_XGB = cross_val_score(estimator=XGB,\n",
    "                              X= X_train,\n",
    "                              y=y_train.values.flatten(),\n",
    "                              cv=10,\n",
    "                              scoring = 'f1')\n",
    "\n",
    "mean_val_rmse_XGB = val_rmse_XGB.mean()\n",
    "mean_val_rmse_XGB"
   ]
  },
  {
   "cell_type": "markdown",
   "id": "fd021941",
   "metadata": {},
   "source": [
    "## Comparing The models"
   ]
  },
  {
   "cell_type": "markdown",
   "id": "7a5fdb32",
   "metadata": {},
   "source": [
    "Let's see the dispersion by analising the boxplot of the f1 estimator of all of our models. The boxplot shows that The error of the linear regression is smoller than the error of decision tree regressor. So this is the model we will use in our test dataset."
   ]
  },
  {
   "cell_type": "code",
   "execution_count": 20,
   "id": "726e8544",
   "metadata": {},
   "outputs": [
    {
     "data": {
      "text/plain": [
       "[Text(0, 0, 'Logistic_Regression'),\n",
       " Text(1, 0, 'Decision_Tree_Classifier'),\n",
       " Text(2, 0, 'Random_Forest_Classifier'),\n",
       " Text(3, 0, 'XGBoost')]"
      ]
     },
     "execution_count": 20,
     "metadata": {},
     "output_type": "execute_result"
    },
    {
     "data": {
      "image/png": "[encoded data removed]",
      "text/plain": [
       "<Figure size 640x480 with 1 Axes>"
      ]
     },
     "metadata": {},
     "output_type": "display_data"
    }
   ],
   "source": [
    "rmse = pd.DataFrame({'Logistic_Regression': val_f1_LR, 'Decision_Tree_Classifier': val_f1_DTC, 'Random_Forest_Classifier': val_f1_RFC, \n",
    "                     'XGBoost': val_rmse_XGB} )\n",
    "box=sns.boxplot(data=rmse)\n",
    "box.set_title('Comparing RMSE')\n",
    "box.set_xticklabels(box.get_xticklabels(), rotation=90)"
   ]
  },
  {
   "cell_type": "markdown",
   "id": "50757468",
   "metadata": {},
   "source": [
    "# champion model"
   ]
  },
  {
   "cell_type": "markdown",
   "id": "218ad406",
   "metadata": {},
   "source": [
    "We fit all the train data to our XGBoost model"
   ]
  },
  {
   "cell_type": "code",
   "execution_count": 21,
   "id": "a63597a5",
   "metadata": {},
   "outputs": [
    {
     "data": {
      "text/html": [
       "<style>#sk-container-id-2 {color: black;}#sk-container-id-2 pre{padding: 0;}#sk-container-id-2 div.sk-toggleable {background-color: white;}#sk-container-id-2 label.sk-toggleable__label {cursor: pointer;display: block;width: 100%;margin-bottom: 0;padding: 0.3em;box-sizing: border-box;text-align: center;}#sk-container-id-2 label.sk-toggleable__label-arrow:before {content: \"▸\";float: left;margin-right: 0.25em;color: #696969;}#sk-container-id-2 label.sk-toggleable__label-arrow:hover:before {color: black;}#sk-container-id-2 div.sk-estimator:hover label.sk-toggleable__label-arrow:before {color: black;}#sk-container-id-2 div.sk-toggleable__content {max-height: 0;max-width: 0;overflow: hidden;text-align: left;background-color: #f0f8ff;}#sk-container-id-2 div.sk-toggleable__content pre {margin: 0.2em;color: black;border-radius: 0.25em;background-color: #f0f8ff;}#sk-container-id-2 input.sk-toggleable__control:checked~div.sk-toggleable__content {max-height: 200px;max-width: 100%;overflow: auto;}#sk-container-id-2 input.sk-toggleable__control:checked~label.sk-toggleable__label-arrow:before {content: \"▾\";}#sk-container-id-2 div.sk-estimator input.sk-toggleable__control:checked~label.sk-toggleable__label {background-color: #d4ebff;}#sk-container-id-2 div.sk-label input.sk-toggleable__control:checked~label.sk-toggleable__label {background-color: #d4ebff;}#sk-container-id-2 input.sk-hidden--visually {border: 0;clip: rect(1px 1px 1px 1px);clip: rect(1px, 1px, 1px, 1px);height: 1px;margin: -1px;overflow: hidden;padding: 0;position: absolute;width: 1px;}#sk-container-id-2 div.sk-estimator {font-family: monospace;background-color: #f0f8ff;border: 1px dotted black;border-radius: 0.25em;box-sizing: border-box;margin-bottom: 0.5em;}#sk-container-id-2 div.sk-estimator:hover {background-color: #d4ebff;}#sk-container-id-2 div.sk-parallel-item::after {content: \"\";width: 100%;border-bottom: 1px solid gray;flex-grow: 1;}#sk-container-id-2 div.sk-label:hover label.sk-toggleable__label {background-color: #d4ebff;}#sk-container-id-2 div.sk-serial::before {content: \"\";position: absolute;border-left: 1px solid gray;box-sizing: border-box;top: 0;bottom: 0;left: 50%;z-index: 0;}#sk-container-id-2 div.sk-serial {display: flex;flex-direction: column;align-items: center;background-color: white;padding-right: 0.2em;padding-left: 0.2em;position: relative;}#sk-container-id-2 div.sk-item {position: relative;z-index: 1;}#sk-container-id-2 div.sk-parallel {display: flex;align-items: stretch;justify-content: center;background-color: white;position: relative;}#sk-container-id-2 div.sk-item::before, #sk-container-id-2 div.sk-parallel-item::before {content: \"\";position: absolute;border-left: 1px solid gray;box-sizing: border-box;top: 0;bottom: 0;left: 50%;z-index: -1;}#sk-container-id-2 div.sk-parallel-item {display: flex;flex-direction: column;z-index: 1;position: relative;background-color: white;}#sk-container-id-2 div.sk-parallel-item:first-child::after {align-self: flex-end;width: 50%;}#sk-container-id-2 div.sk-parallel-item:last-child::after {align-self: flex-start;width: 50%;}#sk-container-id-2 div.sk-parallel-item:only-child::after {width: 0;}#sk-container-id-2 div.sk-dashed-wrapped {border: 1px dashed gray;margin: 0 0.4em 0.5em 0.4em;box-sizing: border-box;padding-bottom: 0.4em;background-color: white;}#sk-container-id-2 div.sk-label label {font-family: monospace;font-weight: bold;display: inline-block;line-height: 1.2em;}#sk-container-id-2 div.sk-label-container {text-align: center;}#sk-container-id-2 div.sk-container {/* jupyter's `normalize.less` sets `[hidden] { display: none; }` but bootstrap.min.css set `[hidden] { display: none !important; }` so we also need the `!important` here to be able to override the default hidden behavior on the sphinx rendered scikit-learn.org. See: https://github.com/scikit-learn/scikit-learn/issues/21755 */display: inline-block !important;position: relative;}#sk-container-id-2 div.sk-text-repr-fallback {display: none;}</style><div id=\"sk-container-id-2\" class=\"sk-top-container\"><div class=\"sk-text-repr-fallback\"><pre>XGBClassifier(base_score=None, booster=None, callbacks=None,\n",
       "              colsample_bylevel=None, colsample_bynode=None,\n",
       "              colsample_bytree=None, device=None, early_stopping_rounds=None,\n",
       "              enable_categorical=False, eval_metric=None, feature_types=None,\n",
       "              gamma=None, grow_policy=None, importance_type=None,\n",
       "              interaction_constraints=None, learning_rate=None, max_bin=None,\n",
       "              max_cat_threshold=None, max_cat_to_onehot=None,\n",
       "              max_delta_step=None, max_depth=None, max_leaves=None,\n",
       "              min_child_weight=None, missing=nan, monotone_constraints=None,\n",
       "              multi_strategy=None, n_estimators=None, n_jobs=None,\n",
       "              num_parallel_tree=None, random_state=None, ...)</pre><b>In a Jupyter environment, please rerun this cell to show the HTML representation or trust the notebook. <br />On GitHub, the HTML representation is unable to render, please try loading this page with nbviewer.org.</b></div><div class=\"sk-container\" hidden><div class=\"sk-item\"><div class=\"sk-estimator sk-toggleable\"><input class=\"sk-toggleable__control sk-hidden--visually\" id=\"sk-estimator-id-2\" type=\"checkbox\" checked><label for=\"sk-estimator-id-2\" class=\"sk-toggleable__label sk-toggleable__label-arrow\">XGBClassifier</label><div class=\"sk-toggleable__content\"><pre>XGBClassifier(base_score=None, booster=None, callbacks=None,\n",
       "              colsample_bylevel=None, colsample_bynode=None,\n",
       "              colsample_bytree=None, device=None, early_stopping_rounds=None,\n",
       "              enable_categorical=False, eval_metric=None, feature_types=None,\n",
       "              gamma=None, grow_policy=None, importance_type=None,\n",
       "              interaction_constraints=None, learning_rate=None, max_bin=None,\n",
       "              max_cat_threshold=None, max_cat_to_onehot=None,\n",
       "              max_delta_step=None, max_depth=None, max_leaves=None,\n",
       "              min_child_weight=None, missing=nan, monotone_constraints=None,\n",
       "              multi_strategy=None, n_estimators=None, n_jobs=None,\n",
       "              num_parallel_tree=None, random_state=None, ...)</pre></div></div></div></div></div>"
      ],
      "text/plain": [
       "XGBClassifier(base_score=None, booster=None, callbacks=None,\n",
       "              colsample_bylevel=None, colsample_bynode=None,\n",
       "              colsample_bytree=None, device=None, early_stopping_rounds=None,\n",
       "              enable_categorical=False, eval_metric=None, feature_types=None,\n",
       "              gamma=None, grow_policy=None, importance_type=None,\n",
       "              interaction_constraints=None, learning_rate=None, max_bin=None,\n",
       "              max_cat_threshold=None, max_cat_to_onehot=None,\n",
       "              max_delta_step=None, max_depth=None, max_leaves=None,\n",
       "              min_child_weight=None, missing=nan, monotone_constraints=None,\n",
       "              multi_strategy=None, n_estimators=None, n_jobs=None,\n",
       "              num_parallel_tree=None, random_state=None, ...)"
      ]
     },
     "execution_count": 21,
     "metadata": {},
     "output_type": "execute_result"
    }
   ],
   "source": [
    "XGB.fit(X_train, y_train)\n",
    "#LR.coef_"
   ]
  },
  {
   "cell_type": "markdown",
   "id": "0fe76bc4",
   "metadata": {},
   "source": [
    "# Let's predict our churn for the test dataset"
   ]
  },
  {
   "cell_type": "code",
   "execution_count": 22,
   "id": "824b19b8",
   "metadata": {},
   "outputs": [],
   "source": [
    "#from sklearn.metrics import f1_score \n",
    "churn_predicted = XGB.predict(X_test)"
   ]
  },
  {
   "cell_type": "code",
   "execution_count": 23,
   "id": "0a2c53d0",
   "metadata": {},
   "outputs": [
    {
     "name": "stdout",
     "output_type": "stream",
     "text": [
      "The f1_score is: 0.8786610878661087\n"
     ]
    }
   ],
   "source": [
    "from sklearn.metrics import f1_score\n",
    "print('The f1_score is:', f1_score(y_test, churn_predicted))"
   ]
  },
  {
   "cell_type": "code",
   "execution_count": null,
   "id": "a83a710c",
   "metadata": {},
   "outputs": [],
   "source": []
  }
 ],
 "metadata": {
  "kernelspec": {
   "display_name": "Python 3 (ipykernel)",
   "language": "python",
   "name": "python3"
  },
  "language_info": {
   "codemirror_mode": {
    "name": "ipython",
    "version": 3
   },
   "file_extension": ".py",
   "mimetype": "text/x-python",
   "name": "python",
   "nbconvert_exporter": "python",
   "pygments_lexer": "ipython3",
   "version": "3.11.5"
  }
 },
 "nbformat": 4,
 "nbformat_minor": 5
}
