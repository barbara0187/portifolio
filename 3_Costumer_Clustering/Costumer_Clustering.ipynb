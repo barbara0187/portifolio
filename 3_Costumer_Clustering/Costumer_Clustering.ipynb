{
 "cells": [
  {
   "cell_type": "markdown",
   "id": "9aa131ab",
   "metadata": {},
   "source": [
    "# Importando e exibindo os dados"
   ]
  },
  {
   "cell_type": "markdown",
   "id": "3610c71f",
   "metadata": {},
   "source": [
    "The data used in this project is from Kaggle datasets, available in the page: https://www.kaggle.com/datasets/dev0914sharma/customer-clustering\n",
    "\n",
    "We are the oners of a supermarket mall and through membership card, we have some basic data about our costumers. In this project we intend to separate the clients into groups that share similar characteristics. In this way we can identify unsatisfied costumers need."
   ]
  },
  {
   "cell_type": "code",
   "execution_count": 1,
   "id": "a512e3c6",
   "metadata": {},
   "outputs": [],
   "source": [
    "import pandas as pd\n",
    "import matplotlib.pyplot as plt\n",
    "import numpy as np"
   ]
  },
  {
   "cell_type": "code",
   "execution_count": 2,
   "id": "ec6171be",
   "metadata": {},
   "outputs": [
    {
     "data": {
      "text/html": [
       "<div>\n",
       "<style scoped>\n",
       "    .dataframe tbody tr th:only-of-type {\n",
       "        vertical-align: middle;\n",
       "    }\n",
       "\n",
       "    .dataframe tbody tr th {\n",
       "        vertical-align: top;\n",
       "    }\n",
       "\n",
       "    .dataframe thead th {\n",
       "        text-align: right;\n",
       "    }\n",
       "</style>\n",
       "<table border=\"1\" class=\"dataframe\">\n",
       "  <thead>\n",
       "    <tr style=\"text-align: right;\">\n",
       "      <th></th>\n",
       "      <th>Sex</th>\n",
       "      <th>Marital status</th>\n",
       "      <th>Age</th>\n",
       "      <th>Education</th>\n",
       "      <th>Income</th>\n",
       "      <th>Occupation</th>\n",
       "      <th>Settlement size</th>\n",
       "    </tr>\n",
       "  </thead>\n",
       "  <tbody>\n",
       "    <tr>\n",
       "      <th>0</th>\n",
       "      <td>0</td>\n",
       "      <td>0</td>\n",
       "      <td>67</td>\n",
       "      <td>2</td>\n",
       "      <td>124670</td>\n",
       "      <td>1</td>\n",
       "      <td>2</td>\n",
       "    </tr>\n",
       "    <tr>\n",
       "      <th>1</th>\n",
       "      <td>1</td>\n",
       "      <td>1</td>\n",
       "      <td>22</td>\n",
       "      <td>1</td>\n",
       "      <td>150773</td>\n",
       "      <td>1</td>\n",
       "      <td>2</td>\n",
       "    </tr>\n",
       "    <tr>\n",
       "      <th>2</th>\n",
       "      <td>0</td>\n",
       "      <td>0</td>\n",
       "      <td>49</td>\n",
       "      <td>1</td>\n",
       "      <td>89210</td>\n",
       "      <td>0</td>\n",
       "      <td>0</td>\n",
       "    </tr>\n",
       "    <tr>\n",
       "      <th>3</th>\n",
       "      <td>0</td>\n",
       "      <td>0</td>\n",
       "      <td>45</td>\n",
       "      <td>1</td>\n",
       "      <td>171565</td>\n",
       "      <td>1</td>\n",
       "      <td>1</td>\n",
       "    </tr>\n",
       "    <tr>\n",
       "      <th>4</th>\n",
       "      <td>0</td>\n",
       "      <td>0</td>\n",
       "      <td>53</td>\n",
       "      <td>1</td>\n",
       "      <td>149031</td>\n",
       "      <td>1</td>\n",
       "      <td>1</td>\n",
       "    </tr>\n",
       "  </tbody>\n",
       "</table>\n",
       "</div>"
      ],
      "text/plain": [
       "   Sex  Marital status  Age  Education  Income  Occupation  Settlement size\n",
       "0    0               0   67          2  124670           1                2\n",
       "1    1               1   22          1  150773           1                2\n",
       "2    0               0   49          1   89210           0                0\n",
       "3    0               0   45          1  171565           1                1\n",
       "4    0               0   53          1  149031           1                1"
      ]
     },
     "execution_count": 2,
     "metadata": {},
     "output_type": "execute_result"
    }
   ],
   "source": [
    "dataframe=pd.read_csv('segmentation data.csv')\n",
    "dataframe.drop(['ID'], axis=1, inplace=True)\n",
    "dataframe.head()"
   ]
  },
  {
   "cell_type": "code",
   "execution_count": 3,
   "id": "da43a1d2",
   "metadata": {},
   "outputs": [
    {
     "name": "stdout",
     "output_type": "stream",
     "text": [
      "<class 'pandas.core.frame.DataFrame'>\n",
      "RangeIndex: 2000 entries, 0 to 1999\n",
      "Data columns (total 7 columns):\n",
      " #   Column           Non-Null Count  Dtype\n",
      "---  ------           --------------  -----\n",
      " 0   Sex              2000 non-null   int64\n",
      " 1   Marital status   2000 non-null   int64\n",
      " 2   Age              2000 non-null   int64\n",
      " 3   Education        2000 non-null   int64\n",
      " 4   Income           2000 non-null   int64\n",
      " 5   Occupation       2000 non-null   int64\n",
      " 6   Settlement size  2000 non-null   int64\n",
      "dtypes: int64(7)\n",
      "memory usage: 109.5 KB\n"
     ]
    }
   ],
   "source": [
    "dataframe.info()"
   ]
  },
  {
   "cell_type": "code",
   "execution_count": 4,
   "id": "b95201de",
   "metadata": {},
   "outputs": [
    {
     "data": {
      "text/plain": [
       "Sex                0\n",
       "Marital status     0\n",
       "Age                0\n",
       "Education          0\n",
       "Income             0\n",
       "Occupation         0\n",
       "Settlement size    0\n",
       "dtype: int64"
      ]
     },
     "execution_count": 4,
     "metadata": {},
     "output_type": "execute_result"
    }
   ],
   "source": [
    "dataframe.isnull().sum()"
   ]
  },
  {
   "cell_type": "code",
   "execution_count": 5,
   "id": "16f23349",
   "metadata": {},
   "outputs": [
    {
     "data": {
      "text/html": [
       "<div>\n",
       "<style scoped>\n",
       "    .dataframe tbody tr th:only-of-type {\n",
       "        vertical-align: middle;\n",
       "    }\n",
       "\n",
       "    .dataframe tbody tr th {\n",
       "        vertical-align: top;\n",
       "    }\n",
       "\n",
       "    .dataframe thead th {\n",
       "        text-align: right;\n",
       "    }\n",
       "</style>\n",
       "<table border=\"1\" class=\"dataframe\">\n",
       "  <thead>\n",
       "    <tr style=\"text-align: right;\">\n",
       "      <th></th>\n",
       "      <th>Sex</th>\n",
       "      <th>Marital status</th>\n",
       "      <th>Age</th>\n",
       "      <th>Education</th>\n",
       "      <th>Income</th>\n",
       "      <th>Occupation</th>\n",
       "      <th>Settlement size</th>\n",
       "    </tr>\n",
       "  </thead>\n",
       "  <tbody>\n",
       "    <tr>\n",
       "      <th>count</th>\n",
       "      <td>2000.000000</td>\n",
       "      <td>2000.000000</td>\n",
       "      <td>2000.000000</td>\n",
       "      <td>2000.00000</td>\n",
       "      <td>2000.000000</td>\n",
       "      <td>2000.000000</td>\n",
       "      <td>2000.000000</td>\n",
       "    </tr>\n",
       "    <tr>\n",
       "      <th>mean</th>\n",
       "      <td>0.457000</td>\n",
       "      <td>0.496500</td>\n",
       "      <td>35.909000</td>\n",
       "      <td>1.03800</td>\n",
       "      <td>120954.419000</td>\n",
       "      <td>0.810500</td>\n",
       "      <td>0.739000</td>\n",
       "    </tr>\n",
       "    <tr>\n",
       "      <th>std</th>\n",
       "      <td>0.498272</td>\n",
       "      <td>0.500113</td>\n",
       "      <td>11.719402</td>\n",
       "      <td>0.59978</td>\n",
       "      <td>38108.824679</td>\n",
       "      <td>0.638587</td>\n",
       "      <td>0.812533</td>\n",
       "    </tr>\n",
       "    <tr>\n",
       "      <th>min</th>\n",
       "      <td>0.000000</td>\n",
       "      <td>0.000000</td>\n",
       "      <td>18.000000</td>\n",
       "      <td>0.00000</td>\n",
       "      <td>35832.000000</td>\n",
       "      <td>0.000000</td>\n",
       "      <td>0.000000</td>\n",
       "    </tr>\n",
       "    <tr>\n",
       "      <th>25%</th>\n",
       "      <td>0.000000</td>\n",
       "      <td>0.000000</td>\n",
       "      <td>27.000000</td>\n",
       "      <td>1.00000</td>\n",
       "      <td>97663.250000</td>\n",
       "      <td>0.000000</td>\n",
       "      <td>0.000000</td>\n",
       "    </tr>\n",
       "    <tr>\n",
       "      <th>50%</th>\n",
       "      <td>0.000000</td>\n",
       "      <td>0.000000</td>\n",
       "      <td>33.000000</td>\n",
       "      <td>1.00000</td>\n",
       "      <td>115548.500000</td>\n",
       "      <td>1.000000</td>\n",
       "      <td>1.000000</td>\n",
       "    </tr>\n",
       "    <tr>\n",
       "      <th>75%</th>\n",
       "      <td>1.000000</td>\n",
       "      <td>1.000000</td>\n",
       "      <td>42.000000</td>\n",
       "      <td>1.00000</td>\n",
       "      <td>138072.250000</td>\n",
       "      <td>1.000000</td>\n",
       "      <td>1.000000</td>\n",
       "    </tr>\n",
       "    <tr>\n",
       "      <th>max</th>\n",
       "      <td>1.000000</td>\n",
       "      <td>1.000000</td>\n",
       "      <td>76.000000</td>\n",
       "      <td>3.00000</td>\n",
       "      <td>309364.000000</td>\n",
       "      <td>2.000000</td>\n",
       "      <td>2.000000</td>\n",
       "    </tr>\n",
       "  </tbody>\n",
       "</table>\n",
       "</div>"
      ],
      "text/plain": [
       "               Sex  Marital status          Age   Education         Income  \\\n",
       "count  2000.000000     2000.000000  2000.000000  2000.00000    2000.000000   \n",
       "mean      0.457000        0.496500    35.909000     1.03800  120954.419000   \n",
       "std       0.498272        0.500113    11.719402     0.59978   38108.824679   \n",
       "min       0.000000        0.000000    18.000000     0.00000   35832.000000   \n",
       "25%       0.000000        0.000000    27.000000     1.00000   97663.250000   \n",
       "50%       0.000000        0.000000    33.000000     1.00000  115548.500000   \n",
       "75%       1.000000        1.000000    42.000000     1.00000  138072.250000   \n",
       "max       1.000000        1.000000    76.000000     3.00000  309364.000000   \n",
       "\n",
       "        Occupation  Settlement size  \n",
       "count  2000.000000      2000.000000  \n",
       "mean      0.810500         0.739000  \n",
       "std       0.638587         0.812533  \n",
       "min       0.000000         0.000000  \n",
       "25%       0.000000         0.000000  \n",
       "50%       1.000000         1.000000  \n",
       "75%       1.000000         1.000000  \n",
       "max       2.000000         2.000000  "
      ]
     },
     "execution_count": 5,
     "metadata": {},
     "output_type": "execute_result"
    }
   ],
   "source": [
    "dataframe.describe()"
   ]
  },
  {
   "cell_type": "code",
   "execution_count": 6,
   "id": "213c3405",
   "metadata": {},
   "outputs": [
    {
     "data": {
      "text/plain": [
       "array([[<Axes: title={'center': 'Sex'}>,\n",
       "        <Axes: title={'center': 'Marital status'}>,\n",
       "        <Axes: title={'center': 'Age'}>],\n",
       "       [<Axes: title={'center': 'Education'}>,\n",
       "        <Axes: title={'center': 'Income'}>,\n",
       "        <Axes: title={'center': 'Occupation'}>],\n",
       "       [<Axes: title={'center': 'Settlement size'}>, <Axes: >, <Axes: >]],\n",
       "      dtype=object)"
      ]
     },
     "execution_count": 6,
     "metadata": {},
     "output_type": "execute_result"
    },
    {
     "data": {
      "image/png": "[encoded data removed]",
      "text/plain": [
       "<Figure size 1000x700 with 9 Axes>"
      ]
     },
     "metadata": {},
     "output_type": "display_data"
    }
   ],
   "source": [
    "dataframe.hist(bins=50, figsize=(10,7))"
   ]
  },
  {
   "cell_type": "markdown",
   "id": "07e11ea5",
   "metadata": {},
   "source": [
    "Our continuous varable, age and  income have near a gaussian shape with a with a positive skew. The variables Sex and Marital status are equally distributed. On the other hand, the data is not equally distributed between the kinds of education, the kinds of Occupation and the kinds of Settlement_size, let's take a look at it:"
   ]
  },
  {
   "cell_type": "code",
   "execution_count": 7,
   "id": "0a0c26bf",
   "metadata": {},
   "outputs": [
    {
     "name": "stdout",
     "output_type": "stream",
     "text": [
      "other/ unknown:  14.35\n",
      "high school:  69.3\n",
      "university 14.549999999999999\n",
      "graduate school 1.7999999999999998\n"
     ]
    }
   ],
   "source": [
    "print('other/ unknown: ', dataframe[dataframe['Education']==0]['Education'].count()/len(dataframe['Education'])*100)\n",
    "print('high school: ', dataframe[dataframe['Education']==1]['Education'].count()/len(dataframe['Education'])*100)\n",
    "print('university', dataframe[dataframe['Education']==2]['Education'].count()/len(dataframe['Education'])*100)\n",
    "print('graduate school', dataframe[dataframe['Education']==3]['Education'].count()/len(dataframe['Education'])*100)"
   ]
  },
  {
   "cell_type": "code",
   "execution_count": 8,
   "id": "9b71283c",
   "metadata": {},
   "outputs": [
    {
     "name": "stdout",
     "output_type": "stream",
     "text": [
      "unemployed / unskilled:  31.65\n",
      "skilled employee / official:  55.65\n",
      "management / self-employed / highly qualified employee / officer:  12.7\n"
     ]
    }
   ],
   "source": [
    "print('unemployed / unskilled: ', dataframe[dataframe['Occupation']==0]['Occupation'].count()/len(dataframe['Occupation'])*100)\n",
    "print('skilled employee / official: ', dataframe[dataframe['Occupation']==1]['Occupation'].count()/len(dataframe['Occupation'])*100)\n",
    "print('management / self-employed / highly qualified employee / officer: ', dataframe[dataframe['Occupation']==2]['Occupation'].count()/len(dataframe['Occupation'])*100)"
   ]
  },
  {
   "cell_type": "code",
   "execution_count": 9,
   "id": "d4811607",
   "metadata": {},
   "outputs": [
    {
     "name": "stdout",
     "output_type": "stream",
     "text": [
      "small city:  49.45\n",
      "mid-sized city:  27.200000000000003\n",
      "big city:  23.35\n"
     ]
    }
   ],
   "source": [
    "print('small city: ', dataframe[dataframe['Settlement size']==0]['Settlement size'].count()/len(dataframe['Settlement size'])*100)\n",
    "print('mid-sized city: ', dataframe[dataframe['Settlement size']==1]['Settlement size'].count()/len(dataframe['Settlement size'])*100)\n",
    "print('big city: ', dataframe[dataframe['Settlement size']==2]['Settlement size'].count()/len(dataframe['Settlement size'])*100)"
   ]
  },
  {
   "cell_type": "markdown",
   "id": "32a9ee99",
   "metadata": {},
   "source": [
    "# Feature Scaling"
   ]
  },
  {
   "cell_type": "markdown",
   "id": "5f59aa6a",
   "metadata": {},
   "source": [
    "We don't want the scale of our data to influence the imprtance of a given feature, then we use MinMaxScaler to normalise our data."
   ]
  },
  {
   "cell_type": "code",
   "execution_count": 10,
   "id": "5d770c8c",
   "metadata": {},
   "outputs": [],
   "source": [
    "from sklearn import preprocessing\n",
    "\n",
    "min_max_scaler = preprocessing.MinMaxScaler(feature_range =(0, 1))\n",
    "DataScalling = min_max_scaler.fit_transform(dataframe)"
   ]
  },
  {
   "cell_type": "code",
   "execution_count": 11,
   "id": "8ed106d3",
   "metadata": {},
   "outputs": [
    {
     "data": {
      "text/plain": [
       "Index(['Sex', 'Marital status', 'Age', 'Education', 'Income', 'Occupation',\n",
       "       'Settlement size'],\n",
       "      dtype='object')"
      ]
     },
     "execution_count": 11,
     "metadata": {},
     "output_type": "execute_result"
    }
   ],
   "source": [
    "colunas = dataframe.columns\n",
    "colunas"
   ]
  },
  {
   "cell_type": "code",
   "execution_count": 12,
   "id": "55a175cf",
   "metadata": {},
   "outputs": [
    {
     "data": {
      "text/html": [
       "<div>\n",
       "<style scoped>\n",
       "    .dataframe tbody tr th:only-of-type {\n",
       "        vertical-align: middle;\n",
       "    }\n",
       "\n",
       "    .dataframe tbody tr th {\n",
       "        vertical-align: top;\n",
       "    }\n",
       "\n",
       "    .dataframe thead th {\n",
       "        text-align: right;\n",
       "    }\n",
       "</style>\n",
       "<table border=\"1\" class=\"dataframe\">\n",
       "  <thead>\n",
       "    <tr style=\"text-align: right;\">\n",
       "      <th></th>\n",
       "      <th>Sex</th>\n",
       "      <th>Marital status</th>\n",
       "      <th>Age</th>\n",
       "      <th>Education</th>\n",
       "      <th>Income</th>\n",
       "      <th>Occupation</th>\n",
       "      <th>Settlement size</th>\n",
       "    </tr>\n",
       "  </thead>\n",
       "  <tbody>\n",
       "    <tr>\n",
       "      <th>0</th>\n",
       "      <td>0.0</td>\n",
       "      <td>0.0</td>\n",
       "      <td>0.844828</td>\n",
       "      <td>0.666667</td>\n",
       "      <td>0.324781</td>\n",
       "      <td>0.5</td>\n",
       "      <td>1.0</td>\n",
       "    </tr>\n",
       "    <tr>\n",
       "      <th>1</th>\n",
       "      <td>1.0</td>\n",
       "      <td>1.0</td>\n",
       "      <td>0.068966</td>\n",
       "      <td>0.333333</td>\n",
       "      <td>0.420210</td>\n",
       "      <td>0.5</td>\n",
       "      <td>1.0</td>\n",
       "    </tr>\n",
       "    <tr>\n",
       "      <th>2</th>\n",
       "      <td>0.0</td>\n",
       "      <td>0.0</td>\n",
       "      <td>0.534483</td>\n",
       "      <td>0.333333</td>\n",
       "      <td>0.195144</td>\n",
       "      <td>0.0</td>\n",
       "      <td>0.0</td>\n",
       "    </tr>\n",
       "    <tr>\n",
       "      <th>3</th>\n",
       "      <td>0.0</td>\n",
       "      <td>0.0</td>\n",
       "      <td>0.465517</td>\n",
       "      <td>0.333333</td>\n",
       "      <td>0.496223</td>\n",
       "      <td>0.5</td>\n",
       "      <td>0.5</td>\n",
       "    </tr>\n",
       "    <tr>\n",
       "      <th>4</th>\n",
       "      <td>0.0</td>\n",
       "      <td>0.0</td>\n",
       "      <td>0.603448</td>\n",
       "      <td>0.333333</td>\n",
       "      <td>0.413842</td>\n",
       "      <td>0.5</td>\n",
       "      <td>0.5</td>\n",
       "    </tr>\n",
       "  </tbody>\n",
       "</table>\n",
       "</div>"
      ],
      "text/plain": [
       "   Sex  Marital status       Age  Education    Income  Occupation  \\\n",
       "0  0.0             0.0  0.844828   0.666667  0.324781         0.5   \n",
       "1  1.0             1.0  0.068966   0.333333  0.420210         0.5   \n",
       "2  0.0             0.0  0.534483   0.333333  0.195144         0.0   \n",
       "3  0.0             0.0  0.465517   0.333333  0.496223         0.5   \n",
       "4  0.0             0.0  0.603448   0.333333  0.413842         0.5   \n",
       "\n",
       "   Settlement size  \n",
       "0              1.0  \n",
       "1              1.0  \n",
       "2              0.0  \n",
       "3              0.5  \n",
       "4              0.5  "
      ]
     },
     "execution_count": 12,
     "metadata": {},
     "output_type": "execute_result"
    }
   ],
   "source": [
    "DataFrameScaling=pd.DataFrame(data= DataScalling, columns=colunas, index = dataframe.index)\n",
    "DataFrameScaling. head()"
   ]
  },
  {
   "cell_type": "code",
   "execution_count": null,
   "id": "fc1ff324",
   "metadata": {},
   "outputs": [],
   "source": []
  },
  {
   "cell_type": "markdown",
   "id": "f29b1f9d",
   "metadata": {},
   "source": [
    "# Defining the number of Clusters"
   ]
  },
  {
   "cell_type": "markdown",
   "id": "3a200d22",
   "metadata": {},
   "source": [
    "## SSE metric"
   ]
  },
  {
   "cell_type": "markdown",
   "id": "7c6b367c",
   "metadata": {},
   "source": [
    "Let's use the SSE metric (Error Sum of Squares) that calculate the square of the distance between each point and the centroide and sum everything! That is, it measures how distant the points in the same cluster are from each other. As spread the clusters are, bigger is the error. We whant the minimum value of SSE that forms a knee in the graphic."
   ]
  },
  {
   "cell_type": "code",
   "execution_count": 13,
   "id": "e25f0393",
   "metadata": {},
   "outputs": [
    {
     "data": {
      "image/png": "[encoded data removed]",
      "text/plain": [
       "<Figure size 640x480 with 1 Axes>"
      ]
     },
     "metadata": {},
     "output_type": "display_data"
    }
   ],
   "source": [
    "from sklearn.cluster import KMeans\n",
    "\n",
    "sse = {}\n",
    "\n",
    "# We are going to use the metrics SSE varing from 1 to 9 clusters\n",
    "for num_clusters in range(2, 10):\n",
    "    kmeans = KMeans(n_clusters=num_clusters, max_iter=1000, random_state=0, n_init=10).fit(DataFrameScaling.loc[:, colunas].values)\n",
    "\n",
    "    # Inertia: Sum of the distances between the observations\n",
    "    # and the center of the cluster\n",
    "    sse[num_clusters] = kmeans.inertia_ \n",
    "    \n",
    "plt.figure()\n",
    "plt.plot(list(sse.keys()), list(sse.values()))\n",
    "plt.xlabel(\"Number of clusters\")\n",
    "plt.ylabel(\"SSE\")\n",
    "plt.show()"
   ]
  },
  {
   "cell_type": "markdown",
   "id": "80662355",
   "metadata": {},
   "source": [
    "## Silhouette"
   ]
  },
  {
   "cell_type": "markdown",
   "id": "65b6ce53",
   "metadata": {},
   "source": [
    "The silhouette coefficient can be used to study the separation distance between the resulting clusters. It has the range of (-1, 1). The closer the silhouette value is to 1, the more separated the clusters are. We want to maximize this value."
   ]
  },
  {
   "cell_type": "code",
   "execution_count": 14,
   "id": "b8cc6800",
   "metadata": {},
   "outputs": [
    {
     "data": {
      "image/png": "[encoded data removed]",
      "text/plain": [
       "<Figure size 640x480 with 1 Axes>"
      ]
     },
     "metadata": {},
     "output_type": "display_data"
    }
   ],
   "source": [
    "from sklearn.metrics import silhouette_score\n",
    "\n",
    "selh = {}\n",
    "\n",
    "# We are going to use the metrics SSE varing from 2 to 9 clusters\n",
    "for num_clusters in range(2, 10):\n",
    "    kmeans = KMeans(n_clusters=num_clusters, max_iter=1000, random_state=0, n_init=10).fit(DataFrameScaling.loc[:, colunas])\n",
    "\n",
    "    # Inertia: Sum of the distances between the observations\n",
    "    # and the center of the cluster\n",
    "    selh[num_clusters] = silhouette_score(DataFrameScaling.loc[:, colunas], kmeans.labels_, metric='euclidean')\n",
    "    \n",
    "plt.figure()\n",
    "plt.plot(list(selh.keys()), list(selh.values()))\n",
    "plt.xlabel(\"Number of clusters\")\n",
    "plt.ylabel(\"Silhouette\")\n",
    "plt.show()"
   ]
  },
  {
   "cell_type": "markdown",
   "id": "27cf8dc1",
   "metadata": {},
   "source": [
    "From the nformation in the SSE graphic the best number of clusters is 6 and from the information of the silhouette the best number of clusters is 7. Although, The value for the silhouette for 7 clusters are near the value for 6 clusters. Than, we estimate that the best numer of clusters are 6."
   ]
  },
  {
   "cell_type": "code",
   "execution_count": 15,
   "id": "dfaf0775",
   "metadata": {},
   "outputs": [
    {
     "data": {
      "text/html": [
       "<div>\n",
       "<style scoped>\n",
       "    .dataframe tbody tr th:only-of-type {\n",
       "        vertical-align: middle;\n",
       "    }\n",
       "\n",
       "    .dataframe tbody tr th {\n",
       "        vertical-align: top;\n",
       "    }\n",
       "\n",
       "    .dataframe thead th {\n",
       "        text-align: right;\n",
       "    }\n",
       "</style>\n",
       "<table border=\"1\" class=\"dataframe\">\n",
       "  <thead>\n",
       "    <tr style=\"text-align: right;\">\n",
       "      <th></th>\n",
       "      <th>Sex</th>\n",
       "      <th>Marital status</th>\n",
       "      <th>Age</th>\n",
       "      <th>Education</th>\n",
       "      <th>Income</th>\n",
       "      <th>Occupation</th>\n",
       "      <th>Settlement size</th>\n",
       "      <th>clusters</th>\n",
       "    </tr>\n",
       "  </thead>\n",
       "  <tbody>\n",
       "    <tr>\n",
       "      <th>0</th>\n",
       "      <td>0</td>\n",
       "      <td>0</td>\n",
       "      <td>67</td>\n",
       "      <td>2</td>\n",
       "      <td>124670</td>\n",
       "      <td>1</td>\n",
       "      <td>2</td>\n",
       "      <td>3</td>\n",
       "    </tr>\n",
       "    <tr>\n",
       "      <th>1</th>\n",
       "      <td>1</td>\n",
       "      <td>1</td>\n",
       "      <td>22</td>\n",
       "      <td>1</td>\n",
       "      <td>150773</td>\n",
       "      <td>1</td>\n",
       "      <td>2</td>\n",
       "      <td>0</td>\n",
       "    </tr>\n",
       "    <tr>\n",
       "      <th>2</th>\n",
       "      <td>0</td>\n",
       "      <td>0</td>\n",
       "      <td>49</td>\n",
       "      <td>1</td>\n",
       "      <td>89210</td>\n",
       "      <td>0</td>\n",
       "      <td>0</td>\n",
       "      <td>1</td>\n",
       "    </tr>\n",
       "    <tr>\n",
       "      <th>3</th>\n",
       "      <td>0</td>\n",
       "      <td>0</td>\n",
       "      <td>45</td>\n",
       "      <td>1</td>\n",
       "      <td>171565</td>\n",
       "      <td>1</td>\n",
       "      <td>1</td>\n",
       "      <td>3</td>\n",
       "    </tr>\n",
       "    <tr>\n",
       "      <th>4</th>\n",
       "      <td>0</td>\n",
       "      <td>0</td>\n",
       "      <td>53</td>\n",
       "      <td>1</td>\n",
       "      <td>149031</td>\n",
       "      <td>1</td>\n",
       "      <td>1</td>\n",
       "      <td>3</td>\n",
       "    </tr>\n",
       "  </tbody>\n",
       "</table>\n",
       "</div>"
      ],
      "text/plain": [
       "   Sex  Marital status  Age  Education  Income  Occupation  Settlement size  \\\n",
       "0    0               0   67          2  124670           1                2   \n",
       "1    1               1   22          1  150773           1                2   \n",
       "2    0               0   49          1   89210           0                0   \n",
       "3    0               0   45          1  171565           1                1   \n",
       "4    0               0   53          1  149031           1                1   \n",
       "\n",
       "   clusters  \n",
       "0         3  \n",
       "1         0  \n",
       "2         1  \n",
       "3         3  \n",
       "4         3  "
      ]
     },
     "execution_count": 15,
     "metadata": {},
     "output_type": "execute_result"
    }
   ],
   "source": [
    "kmeans = KMeans(n_clusters=6, max_iter=1000, random_state=0, n_init=10).fit(DataFrameScaling)\n",
    "\n",
    "# Incluindo a informação de qual cluster cada observação pertence\n",
    "dataframe['clusters'] = kmeans.labels_\n",
    "dataframe.head()"
   ]
  },
  {
   "cell_type": "markdown",
   "id": "aa3b1a89",
   "metadata": {},
   "source": [
    "# Analise dos atributos"
   ]
  },
  {
   "cell_type": "markdown",
   "id": "89c54ee7",
   "metadata": {},
   "source": [
    "The variances between the centroides of each cluster for a feature indicates how much the feature is important in the split of the clusters. In the next two steps we extract the centroides of he cluster for each feature and use this value to calculate the variances."
   ]
  },
  {
   "cell_type": "code",
   "execution_count": 16,
   "id": "3bda2fe7",
   "metadata": {},
   "outputs": [
    {
     "name": "stdout",
     "output_type": "stream",
     "text": [
      "[[ 1.00000000e+00  1.00000000e+00  2.80764030e-01  4.44444444e-01\n",
      "   3.68164246e-01  5.91503268e-01  6.76470588e-01]\n",
      " [ 3.88578059e-16  1.33226763e-15  3.37336124e-01  2.46006390e-01\n",
      "   2.44762293e-01  1.85303514e-01  3.03514377e-02]\n",
      " [ 1.00000000e+00  1.00000000e+00  2.48556536e-01  4.03875969e-01\n",
      "   2.42422578e-01  2.13953488e-01  5.81395349e-03]\n",
      " [ 2.55351296e-15  1.72084569e-15  3.79443999e-01  2.73901809e-01\n",
      "   4.00295405e-01  6.32751938e-01  7.66472868e-01]\n",
      " [ 1.00000000e+00  1.49880108e-15  2.95621852e-01  3.10861423e-01\n",
      "   2.27268625e-01  1.85393258e-01  3.65168539e-02]\n",
      " [-3.88578059e-16  1.00000000e+00  2.75325372e-01  4.22827497e-01\n",
      "   3.18590599e-01  4.66926070e-01  4.59143969e-01]]\n"
     ]
    }
   ],
   "source": [
    "centroids = kmeans.cluster_centers_\n",
    "print(centroids)"
   ]
  },
  {
   "cell_type": "code",
   "execution_count": 17,
   "id": "a9a596ad",
   "metadata": {},
   "outputs": [
    {
     "name": "stdout",
     "output_type": "stream",
     "text": [
      "Sex \n",
      "0.2500\n",
      "Marital status \n",
      "0.2500\n",
      "Age \n",
      "0.0019\n",
      "Education \n",
      "0.0059\n",
      "Income \n",
      "0.0045\n",
      "Occupation \n",
      "0.0366\n",
      "Settlement size \n",
      "0.1014\n"
     ]
    }
   ],
   "source": [
    "max =len(centroids[0])\n",
    "for i in range(max):\n",
    "    print(DataFrameScaling.columns.values[i], '\\n{:.4f}'.format(centroids[:, i].var()))"
   ]
  },
  {
   "cell_type": "markdown",
   "id": "28b72b29",
   "metadata": {},
   "source": [
    "From the result above we conclude that the most important Features are:\n",
    "\n",
    "Sex: var = 0.2494\n",
    "\n",
    "Marital status: var = 0.2500\n",
    "\n",
    "Occupation: var = 0.0381\n",
    "\n",
    "Settlement size: var = 0.1009"
   ]
  },
  {
   "cell_type": "markdown",
   "id": "04913a93",
   "metadata": {},
   "source": [
    "We criate new classes in order to separate each possible result in different columns:"
   ]
  },
  {
   "cell_type": "code",
   "execution_count": 18,
   "id": "ca9778e3",
   "metadata": {},
   "outputs": [],
   "source": [
    "dataframe['Occupation_0'] = dataframe['Occupation'].apply(lambda x: 1 if x==0 else 0)\n",
    "dataframe['Occupation_1'] = dataframe['Occupation'].apply(lambda x: 1 if x==1 else 0)\n",
    "dataframe['Occupation_2'] = dataframe['Occupation'].apply(lambda x: 1 if x==2 else 0)\n",
    "\n",
    "dataframe['Settlement_size_0'] = dataframe['Settlement size'].apply(lambda x: 1 if x==0 else 0)\n",
    "dataframe['Settlement_size_1'] = dataframe['Settlement size'].apply(lambda x: 1 if x==1 else 0)\n",
    "dataframe['Settlement_size_2'] = dataframe['Settlement size'].apply(lambda x: 1 if x==2 else 0)"
   ]
  },
  {
   "cell_type": "code",
   "execution_count": 19,
   "id": "b1fa8d26",
   "metadata": {},
   "outputs": [
    {
     "data": {
      "text/html": [
       "<div>\n",
       "<style scoped>\n",
       "    .dataframe tbody tr th:only-of-type {\n",
       "        vertical-align: middle;\n",
       "    }\n",
       "\n",
       "    .dataframe tbody tr th {\n",
       "        vertical-align: top;\n",
       "    }\n",
       "\n",
       "    .dataframe thead th {\n",
       "        text-align: right;\n",
       "    }\n",
       "</style>\n",
       "<table border=\"1\" class=\"dataframe\">\n",
       "  <thead>\n",
       "    <tr style=\"text-align: right;\">\n",
       "      <th></th>\n",
       "      <th>Sex</th>\n",
       "      <th>Marital status</th>\n",
       "      <th>Age</th>\n",
       "      <th>Education</th>\n",
       "      <th>Income</th>\n",
       "      <th>Occupation</th>\n",
       "      <th>Settlement size</th>\n",
       "      <th>clusters</th>\n",
       "      <th>Occupation_0</th>\n",
       "      <th>Occupation_1</th>\n",
       "      <th>Occupation_2</th>\n",
       "      <th>Settlement_size_0</th>\n",
       "      <th>Settlement_size_1</th>\n",
       "      <th>Settlement_size_2</th>\n",
       "    </tr>\n",
       "  </thead>\n",
       "  <tbody>\n",
       "    <tr>\n",
       "      <th>0</th>\n",
       "      <td>0</td>\n",
       "      <td>0</td>\n",
       "      <td>67</td>\n",
       "      <td>2</td>\n",
       "      <td>124670</td>\n",
       "      <td>1</td>\n",
       "      <td>2</td>\n",
       "      <td>3</td>\n",
       "      <td>0</td>\n",
       "      <td>1</td>\n",
       "      <td>0</td>\n",
       "      <td>0</td>\n",
       "      <td>0</td>\n",
       "      <td>1</td>\n",
       "    </tr>\n",
       "    <tr>\n",
       "      <th>1</th>\n",
       "      <td>1</td>\n",
       "      <td>1</td>\n",
       "      <td>22</td>\n",
       "      <td>1</td>\n",
       "      <td>150773</td>\n",
       "      <td>1</td>\n",
       "      <td>2</td>\n",
       "      <td>0</td>\n",
       "      <td>0</td>\n",
       "      <td>1</td>\n",
       "      <td>0</td>\n",
       "      <td>0</td>\n",
       "      <td>0</td>\n",
       "      <td>1</td>\n",
       "    </tr>\n",
       "    <tr>\n",
       "      <th>2</th>\n",
       "      <td>0</td>\n",
       "      <td>0</td>\n",
       "      <td>49</td>\n",
       "      <td>1</td>\n",
       "      <td>89210</td>\n",
       "      <td>0</td>\n",
       "      <td>0</td>\n",
       "      <td>1</td>\n",
       "      <td>1</td>\n",
       "      <td>0</td>\n",
       "      <td>0</td>\n",
       "      <td>1</td>\n",
       "      <td>0</td>\n",
       "      <td>0</td>\n",
       "    </tr>\n",
       "    <tr>\n",
       "      <th>3</th>\n",
       "      <td>0</td>\n",
       "      <td>0</td>\n",
       "      <td>45</td>\n",
       "      <td>1</td>\n",
       "      <td>171565</td>\n",
       "      <td>1</td>\n",
       "      <td>1</td>\n",
       "      <td>3</td>\n",
       "      <td>0</td>\n",
       "      <td>1</td>\n",
       "      <td>0</td>\n",
       "      <td>0</td>\n",
       "      <td>1</td>\n",
       "      <td>0</td>\n",
       "    </tr>\n",
       "    <tr>\n",
       "      <th>4</th>\n",
       "      <td>0</td>\n",
       "      <td>0</td>\n",
       "      <td>53</td>\n",
       "      <td>1</td>\n",
       "      <td>149031</td>\n",
       "      <td>1</td>\n",
       "      <td>1</td>\n",
       "      <td>3</td>\n",
       "      <td>0</td>\n",
       "      <td>1</td>\n",
       "      <td>0</td>\n",
       "      <td>0</td>\n",
       "      <td>1</td>\n",
       "      <td>0</td>\n",
       "    </tr>\n",
       "  </tbody>\n",
       "</table>\n",
       "</div>"
      ],
      "text/plain": [
       "   Sex  Marital status  Age  Education  Income  Occupation  Settlement size  \\\n",
       "0    0               0   67          2  124670           1                2   \n",
       "1    1               1   22          1  150773           1                2   \n",
       "2    0               0   49          1   89210           0                0   \n",
       "3    0               0   45          1  171565           1                1   \n",
       "4    0               0   53          1  149031           1                1   \n",
       "\n",
       "   clusters  Occupation_0  Occupation_1  Occupation_2  Settlement_size_0  \\\n",
       "0         3             0             1             0                  0   \n",
       "1         0             0             1             0                  0   \n",
       "2         1             1             0             0                  1   \n",
       "3         3             0             1             0                  0   \n",
       "4         3             0             1             0                  0   \n",
       "\n",
       "   Settlement_size_1  Settlement_size_2  \n",
       "0                  0                  1  \n",
       "1                  0                  1  \n",
       "2                  0                  0  \n",
       "3                  1                  0  \n",
       "4                  1                  0  "
      ]
     },
     "execution_count": 19,
     "metadata": {},
     "output_type": "execute_result"
    }
   ],
   "source": [
    " dataframe.head()"
   ]
  },
  {
   "cell_type": "markdown",
   "id": "594684ff",
   "metadata": {},
   "source": [
    "Now, all of our features are 0 or 1, we can calculate the percentage each characteristic represent in the cluster."
   ]
  },
  {
   "cell_type": "code",
   "execution_count": 20,
   "id": "1889201e",
   "metadata": {},
   "outputs": [
    {
     "name": "stdout",
     "output_type": "stream",
     "text": [
      "            Sex  Marital status  Occupation_0  Occupation_1  Occupation_2  \\\n",
      "clusters                                                                    \n",
      "0         100.0           100.0      0.653595     80.392157     18.954248   \n",
      "1           0.0             0.0     64.217252     34.504792      1.277955   \n",
      "2         100.0           100.0     57.209302     42.790698      0.000000   \n",
      "3           0.0             0.0      1.937984     69.573643     28.488372   \n",
      "4         100.0             0.0     64.044944     34.831461      1.123596   \n",
      "5           0.0           100.0     23.346304     59.922179     16.731518   \n",
      "\n",
      "          Settlement_size_0  Settlement_size_1  Settlement_size_2  n_clients  \n",
      "clusters                                                                      \n",
      "0                  1.633987          61.437908          36.928105        306  \n",
      "1                 93.929712           6.070288           0.000000        313  \n",
      "2                 98.837209           1.162791           0.000000        430  \n",
      "3                  0.193798          46.317829          53.488372        516  \n",
      "4                 92.696629           7.303371           0.000000        178  \n",
      "5                 38.521401          31.128405          30.350195        257  \n"
     ]
    }
   ],
   "source": [
    "description=dataframe.groupby('clusters')[['Sex', 'Marital status', 'Occupation_0', 'Occupation_1', 'Occupation_2',\n",
    "                                        'Settlement_size_0', 'Settlement_size_1', 'Settlement_size_2']]\n",
    "\n",
    "description2 = description.mean()*100\n",
    "n_clients = description.size() \n",
    "description2['n_clients']= n_clients\n",
    "\n",
    "print(description2)"
   ]
  },
  {
   "cell_type": "markdown",
   "id": "bc4295bd",
   "metadata": {},
   "source": [
    "CLUSTER 0: Married women. They are anemployed or skilled employee living in a small city.\n",
    "\n",
    "CLUSTER 1: Single men. The majority of them are skilled employee living in a mid-size or big city.\n",
    "\n",
    "CLUSTER 2: Maried women. The majority of them are skilled employee living in a mid-size or big city.\n",
    "\n",
    "CLUSTER 3: Single women. The majority of them are anemployed living in a small city.\n",
    "\n",
    "CLUSTER 4: Married men. The majority of them are skilled employee  living in small, mid-sized and big citys.\n",
    "\n",
    "CLUSTER 5: Single men. The majority of them are anemployed living in a small city."
   ]
  },
  {
   "cell_type": "code",
   "execution_count": null,
   "id": "77aa26e0",
   "metadata": {},
   "outputs": [],
   "source": []
  }
 ],
 "metadata": {
  "kernelspec": {
   "display_name": "Python 3 (ipykernel)",
   "language": "python",
   "name": "python3"
  },
  "language_info": {
   "codemirror_mode": {
    "name": "ipython",
    "version": 3
   },
   "file_extension": ".py",
   "mimetype": "text/x-python",
   "name": "python",
   "nbconvert_exporter": "python",
   "pygments_lexer": "ipython3",
   "version": "3.11.5"
  }
 },
 "nbformat": 4,
 "nbformat_minor": 5
}
